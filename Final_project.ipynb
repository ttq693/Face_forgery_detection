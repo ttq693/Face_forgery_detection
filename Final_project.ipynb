{
  "cells": [
    {
      "cell_type": "markdown",
      "source": [
        "**Download the requirements**"
      ],
      "metadata": {
        "id": "oz0-sV3mbg90"
      },
      "id": "oz0-sV3mbg90"
    },
    {
      "cell_type": "code",
      "execution_count": null,
      "id": "439a1f47",
      "metadata": {
        "execution": {
          "iopub.execute_input": "2023-09-16T05:34:07.645491Z",
          "iopub.status.busy": "2023-09-16T05:34:07.644667Z",
          "iopub.status.idle": "2023-09-16T05:35:31.942014Z",
          "shell.execute_reply": "2023-09-16T05:35:31.940756Z"
        },
        "papermill": {
          "duration": 84.310995,
          "end_time": "2023-09-16T05:35:31.944632",
          "exception": false,
          "start_time": "2023-09-16T05:34:07.633637",
          "status": "completed"
        },
        "tags": [],
        "id": "439a1f47",
        "outputId": "7ee18403-8cef-4faf-ebdd-2a714af9cdfe"
      },
      "outputs": [
        {
          "name": "stdout",
          "output_type": "stream",
          "text": [
            "Collecting moviepy\r\n",
            "  Downloading moviepy-1.0.3.tar.gz (388 kB)\r\n",
            "\u001b[2K     \u001b[90m━━━━━━━━━━━━━━━━━━━━━━━━━━━━━━━━━━━━━━━\u001b[0m \u001b[32m388.3/388.3 kB\u001b[0m \u001b[31m9.9 MB/s\u001b[0m eta \u001b[36m0:00:00\u001b[0m\r\n",
            "\u001b[?25h  Preparing metadata (setup.py) ... \u001b[?25l-\b \b\\\b \bdone\r\n",
            "\u001b[?25hCollecting decorator<5.0,>=4.0.2 (from moviepy)\r\n",
            "  Downloading decorator-4.4.2-py2.py3-none-any.whl (9.2 kB)\r\n",
            "Requirement already satisfied: tqdm<5.0,>=4.11.2 in /opt/conda/lib/python3.10/site-packages (from moviepy) (4.65.0)\r\n",
            "Requirement already satisfied: requests<3.0,>=2.8.1 in /opt/conda/lib/python3.10/site-packages (from moviepy) (2.31.0)\r\n",
            "Collecting proglog<=1.0.0 (from moviepy)\r\n",
            "  Downloading proglog-0.1.10-py3-none-any.whl (6.1 kB)\r\n",
            "Requirement already satisfied: numpy>=1.17.3 in /opt/conda/lib/python3.10/site-packages (from moviepy) (1.23.5)\r\n",
            "Requirement already satisfied: imageio<3.0,>=2.5 in /opt/conda/lib/python3.10/site-packages (from moviepy) (2.31.1)\r\n",
            "Collecting imageio_ffmpeg>=0.2.0 (from moviepy)\r\n",
            "  Downloading imageio_ffmpeg-0.4.9-py3-none-manylinux2010_x86_64.whl (26.9 MB)\r\n",
            "\u001b[2K     \u001b[90m━━━━━━━━━━━━━━━━━━━━━━━━━━━━━━━━━━━━━━━━\u001b[0m \u001b[32m26.9/26.9 MB\u001b[0m \u001b[31m47.6 MB/s\u001b[0m eta \u001b[36m0:00:00\u001b[0m\r\n",
            "\u001b[?25hRequirement already satisfied: pillow>=8.3.2 in /opt/conda/lib/python3.10/site-packages (from imageio<3.0,>=2.5->moviepy) (9.5.0)\r\n",
            "Requirement already satisfied: setuptools in /opt/conda/lib/python3.10/site-packages (from imageio_ffmpeg>=0.2.0->moviepy) (59.8.0)\r\n",
            "Requirement already satisfied: charset-normalizer<4,>=2 in /opt/conda/lib/python3.10/site-packages (from requests<3.0,>=2.8.1->moviepy) (3.1.0)\r\n",
            "Requirement already satisfied: idna<4,>=2.5 in /opt/conda/lib/python3.10/site-packages (from requests<3.0,>=2.8.1->moviepy) (3.4)\r\n",
            "Requirement already satisfied: urllib3<3,>=1.21.1 in /opt/conda/lib/python3.10/site-packages (from requests<3.0,>=2.8.1->moviepy) (1.26.15)\r\n",
            "Requirement already satisfied: certifi>=2017.4.17 in /opt/conda/lib/python3.10/site-packages (from requests<3.0,>=2.8.1->moviepy) (2023.5.7)\r\n",
            "Building wheels for collected packages: moviepy\r\n",
            "  Building wheel for moviepy (setup.py) ... \u001b[?25l-\b \b\\\b \b|\b \bdone\r\n",
            "\u001b[?25h  Created wheel for moviepy: filename=moviepy-1.0.3-py3-none-any.whl size=110744 sha256=094d3be04473f6bc40e16ca5a7fd6a6f2e8c1fbf1acdcde5490ad9d028d97fff\r\n",
            "  Stored in directory: /root/.cache/pip/wheels/96/32/2d/e10123bd88fbfc02fed53cc18c80a171d3c87479ed845fa7c1\r\n",
            "Successfully built moviepy\r\n",
            "Installing collected packages: proglog, imageio_ffmpeg, decorator, moviepy\r\n",
            "  Attempting uninstall: decorator\r\n",
            "    Found existing installation: decorator 5.1.1\r\n",
            "    Uninstalling decorator-5.1.1:\r\n",
            "      Successfully uninstalled decorator-5.1.1\r\n",
            "\u001b[31mERROR: pip's dependency resolver does not currently take into account all the packages that are installed. This behaviour is the source of the following dependency conflicts.\r\n",
            "jupyterlab-lsp 4.2.0 requires jupyter-lsp>=2.0.0, but you have jupyter-lsp 1.5.1 which is incompatible.\u001b[0m\u001b[31m\r\n",
            "\u001b[0mSuccessfully installed decorator-4.4.2 imageio_ffmpeg-0.4.9 moviepy-1.0.3 proglog-0.1.10\r\n",
            "Collecting autokeras\r\n",
            "  Downloading autokeras-1.1.0-py3-none-any.whl (148 kB)\r\n",
            "\u001b[2K     \u001b[90m━━━━━━━━━━━━━━━━━━━━━━━━━━━━━━━━━━━━━━━\u001b[0m \u001b[32m148.6/148.6 kB\u001b[0m \u001b[31m5.7 MB/s\u001b[0m eta \u001b[36m0:00:00\u001b[0m\r\n",
            "\u001b[?25hRequirement already satisfied: packaging in /opt/conda/lib/python3.10/site-packages (from autokeras) (21.3)\r\n",
            "Requirement already satisfied: tensorflow>=2.8.0 in /opt/conda/lib/python3.10/site-packages (from autokeras) (2.12.0)\r\n",
            "Requirement already satisfied: keras-tuner>=1.1.0 in /opt/conda/lib/python3.10/site-packages (from autokeras) (1.3.5)\r\n",
            "Collecting keras-nlp>=0.4.0 (from autokeras)\r\n",
            "  Downloading keras_nlp-0.6.1-py3-none-any.whl (573 kB)\r\n",
            "\u001b[2K     \u001b[90m━━━━━━━━━━━━━━━━━━━━━━━━━━━━━━━━━━━━━━\u001b[0m \u001b[32m573.5/573.5 kB\u001b[0m \u001b[31m25.3 MB/s\u001b[0m eta \u001b[36m0:00:00\u001b[0m\r\n",
            "\u001b[?25hRequirement already satisfied: pandas in /opt/conda/lib/python3.10/site-packages (from autokeras) (1.5.3)\r\n",
            "Collecting keras-core (from keras-nlp>=0.4.0->autokeras)\r\n",
            "  Downloading keras_core-0.1.5-py3-none-any.whl (924 kB)\r\n",
            "\u001b[2K     \u001b[90m━━━━━━━━━━━━━━━━━━━━━━━━━━━━━━━━━━━━━━\u001b[0m \u001b[32m924.6/924.6 kB\u001b[0m \u001b[31m48.0 MB/s\u001b[0m eta \u001b[36m0:00:00\u001b[0m\r\n",
            "\u001b[?25hRequirement already satisfied: absl-py in /opt/conda/lib/python3.10/site-packages (from keras-nlp>=0.4.0->autokeras) (1.4.0)\r\n",
            "Requirement already satisfied: numpy in /opt/conda/lib/python3.10/site-packages (from keras-nlp>=0.4.0->autokeras) (1.23.5)\r\n",
            "Requirement already satisfied: regex in /opt/conda/lib/python3.10/site-packages (from keras-nlp>=0.4.0->autokeras) (2023.6.3)\r\n",
            "Requirement already satisfied: rich in /opt/conda/lib/python3.10/site-packages (from keras-nlp>=0.4.0->autokeras) (13.4.2)\r\n",
            "Requirement already satisfied: tensorflow-text in /opt/conda/lib/python3.10/site-packages (from keras-nlp>=0.4.0->autokeras) (2.12.1)\r\n",
            "Requirement already satisfied: requests in /opt/conda/lib/python3.10/site-packages (from keras-tuner>=1.1.0->autokeras) (2.31.0)\r\n",
            "Requirement already satisfied: kt-legacy in /opt/conda/lib/python3.10/site-packages (from keras-tuner>=1.1.0->autokeras) (1.0.5)\r\n",
            "Requirement already satisfied: astunparse>=1.6.0 in /opt/conda/lib/python3.10/site-packages (from tensorflow>=2.8.0->autokeras) (1.6.3)\r\n",
            "Requirement already satisfied: flatbuffers>=2.0 in /opt/conda/lib/python3.10/site-packages (from tensorflow>=2.8.0->autokeras) (23.5.26)\r\n",
            "Requirement already satisfied: gast<=0.4.0,>=0.2.1 in /opt/conda/lib/python3.10/site-packages (from tensorflow>=2.8.0->autokeras) (0.4.0)\r\n",
            "Requirement already satisfied: google-pasta>=0.1.1 in /opt/conda/lib/python3.10/site-packages (from tensorflow>=2.8.0->autokeras) (0.2.0)\r\n",
            "Requirement already satisfied: grpcio<2.0,>=1.24.3 in /opt/conda/lib/python3.10/site-packages (from tensorflow>=2.8.0->autokeras) (1.51.1)\r\n",
            "Requirement already satisfied: h5py>=2.9.0 in /opt/conda/lib/python3.10/site-packages (from tensorflow>=2.8.0->autokeras) (3.9.0)\r\n",
            "Requirement already satisfied: jax>=0.3.15 in /opt/conda/lib/python3.10/site-packages (from tensorflow>=2.8.0->autokeras) (0.4.13)\r\n",
            "Requirement already satisfied: keras<2.13,>=2.12.0 in /opt/conda/lib/python3.10/site-packages (from tensorflow>=2.8.0->autokeras) (2.12.0)\r\n",
            "Requirement already satisfied: libclang>=13.0.0 in /opt/conda/lib/python3.10/site-packages (from tensorflow>=2.8.0->autokeras) (16.0.0)\r\n",
            "Requirement already satisfied: opt-einsum>=2.3.2 in /opt/conda/lib/python3.10/site-packages (from tensorflow>=2.8.0->autokeras) (3.3.0)\r\n",
            "Requirement already satisfied: protobuf!=4.21.0,!=4.21.1,!=4.21.2,!=4.21.3,!=4.21.4,!=4.21.5,<5.0.0dev,>=3.20.3 in /opt/conda/lib/python3.10/site-packages (from tensorflow>=2.8.0->autokeras) (3.20.3)\r\n",
            "Requirement already satisfied: setuptools in /opt/conda/lib/python3.10/site-packages (from tensorflow>=2.8.0->autokeras) (59.8.0)\r\n",
            "Requirement already satisfied: six>=1.12.0 in /opt/conda/lib/python3.10/site-packages (from tensorflow>=2.8.0->autokeras) (1.16.0)\r\n",
            "Requirement already satisfied: tensorboard<2.13,>=2.12 in /opt/conda/lib/python3.10/site-packages (from tensorflow>=2.8.0->autokeras) (2.12.3)\r\n",
            "Requirement already satisfied: tensorflow-estimator<2.13,>=2.12.0 in /opt/conda/lib/python3.10/site-packages (from tensorflow>=2.8.0->autokeras) (2.12.0)\r\n",
            "Requirement already satisfied: termcolor>=1.1.0 in /opt/conda/lib/python3.10/site-packages (from tensorflow>=2.8.0->autokeras) (2.3.0)\r\n",
            "Requirement already satisfied: typing-extensions>=3.6.6 in /opt/conda/lib/python3.10/site-packages (from tensorflow>=2.8.0->autokeras) (4.6.3)\r\n",
            "Requirement already satisfied: wrapt<1.15,>=1.11.0 in /opt/conda/lib/python3.10/site-packages (from tensorflow>=2.8.0->autokeras) (1.14.1)\r\n",
            "Requirement already satisfied: tensorflow-io-gcs-filesystem>=0.23.1 in /opt/conda/lib/python3.10/site-packages (from tensorflow>=2.8.0->autokeras) (0.31.0)\r\n",
            "Requirement already satisfied: pyparsing!=3.0.5,>=2.0.2 in /opt/conda/lib/python3.10/site-packages (from packaging->autokeras) (3.0.9)\r\n",
            "Requirement already satisfied: python-dateutil>=2.8.1 in /opt/conda/lib/python3.10/site-packages (from pandas->autokeras) (2.8.2)\r\n",
            "Requirement already satisfied: pytz>=2020.1 in /opt/conda/lib/python3.10/site-packages (from pandas->autokeras) (2023.3)\r\n",
            "Requirement already satisfied: wheel<1.0,>=0.23.0 in /opt/conda/lib/python3.10/site-packages (from astunparse>=1.6.0->tensorflow>=2.8.0->autokeras) (0.40.0)\r\n",
            "Requirement already satisfied: ml-dtypes>=0.1.0 in /opt/conda/lib/python3.10/site-packages (from jax>=0.3.15->tensorflow>=2.8.0->autokeras) (0.2.0)\r\n",
            "Requirement already satisfied: scipy>=1.7 in /opt/conda/lib/python3.10/site-packages (from jax>=0.3.15->tensorflow>=2.8.0->autokeras) (1.11.1)\r\n",
            "Requirement already satisfied: google-auth<3,>=1.6.3 in /opt/conda/lib/python3.10/site-packages (from tensorboard<2.13,>=2.12->tensorflow>=2.8.0->autokeras) (2.20.0)\r\n",
            "Requirement already satisfied: google-auth-oauthlib<1.1,>=0.5 in /opt/conda/lib/python3.10/site-packages (from tensorboard<2.13,>=2.12->tensorflow>=2.8.0->autokeras) (1.0.0)\r\n",
            "Requirement already satisfied: markdown>=2.6.8 in /opt/conda/lib/python3.10/site-packages (from tensorboard<2.13,>=2.12->tensorflow>=2.8.0->autokeras) (3.4.3)\r\n",
            "Requirement already satisfied: tensorboard-data-server<0.8.0,>=0.7.0 in /opt/conda/lib/python3.10/site-packages (from tensorboard<2.13,>=2.12->tensorflow>=2.8.0->autokeras) (0.7.1)\r\n",
            "Requirement already satisfied: werkzeug>=1.0.1 in /opt/conda/lib/python3.10/site-packages (from tensorboard<2.13,>=2.12->tensorflow>=2.8.0->autokeras) (2.3.6)\r\n",
            "Requirement already satisfied: charset-normalizer<4,>=2 in /opt/conda/lib/python3.10/site-packages (from requests->keras-tuner>=1.1.0->autokeras) (3.1.0)\r\n",
            "Requirement already satisfied: idna<4,>=2.5 in /opt/conda/lib/python3.10/site-packages (from requests->keras-tuner>=1.1.0->autokeras) (3.4)\r\n",
            "Requirement already satisfied: urllib3<3,>=1.21.1 in /opt/conda/lib/python3.10/site-packages (from requests->keras-tuner>=1.1.0->autokeras) (1.26.15)\r\n",
            "Requirement already satisfied: certifi>=2017.4.17 in /opt/conda/lib/python3.10/site-packages (from requests->keras-tuner>=1.1.0->autokeras) (2023.5.7)\r\n",
            "Collecting namex (from keras-core->keras-nlp>=0.4.0->autokeras)\r\n",
            "  Downloading namex-0.0.7-py3-none-any.whl (5.8 kB)\r\n",
            "Requirement already satisfied: dm-tree in /opt/conda/lib/python3.10/site-packages (from keras-core->keras-nlp>=0.4.0->autokeras) (0.1.8)\r\n",
            "Requirement already satisfied: markdown-it-py>=2.2.0 in /opt/conda/lib/python3.10/site-packages (from rich->keras-nlp>=0.4.0->autokeras) (2.2.0)\r\n",
            "Requirement already satisfied: pygments<3.0.0,>=2.13.0 in /opt/conda/lib/python3.10/site-packages (from rich->keras-nlp>=0.4.0->autokeras) (2.15.1)\r\n",
            "Requirement already satisfied: tensorflow-hub>=0.8.0 in /opt/conda/lib/python3.10/site-packages (from tensorflow-text->keras-nlp>=0.4.0->autokeras) (0.12.0)\r\n",
            "Requirement already satisfied: cachetools<6.0,>=2.0.0 in /opt/conda/lib/python3.10/site-packages (from google-auth<3,>=1.6.3->tensorboard<2.13,>=2.12->tensorflow>=2.8.0->autokeras) (4.2.4)\r\n",
            "Requirement already satisfied: pyasn1-modules>=0.2.1 in /opt/conda/lib/python3.10/site-packages (from google-auth<3,>=1.6.3->tensorboard<2.13,>=2.12->tensorflow>=2.8.0->autokeras) (0.2.7)\r\n",
            "Requirement already satisfied: rsa<5,>=3.1.4 in /opt/conda/lib/python3.10/site-packages (from google-auth<3,>=1.6.3->tensorboard<2.13,>=2.12->tensorflow>=2.8.0->autokeras) (4.9)\r\n",
            "Requirement already satisfied: requests-oauthlib>=0.7.0 in /opt/conda/lib/python3.10/site-packages (from google-auth-oauthlib<1.1,>=0.5->tensorboard<2.13,>=2.12->tensorflow>=2.8.0->autokeras) (1.3.1)\r\n",
            "Requirement already satisfied: mdurl~=0.1 in /opt/conda/lib/python3.10/site-packages (from markdown-it-py>=2.2.0->rich->keras-nlp>=0.4.0->autokeras) (0.1.0)\r\n",
            "Requirement already satisfied: MarkupSafe>=2.1.1 in /opt/conda/lib/python3.10/site-packages (from werkzeug>=1.0.1->tensorboard<2.13,>=2.12->tensorflow>=2.8.0->autokeras) (2.1.3)\r\n",
            "Requirement already satisfied: pyasn1<0.5.0,>=0.4.6 in /opt/conda/lib/python3.10/site-packages (from pyasn1-modules>=0.2.1->google-auth<3,>=1.6.3->tensorboard<2.13,>=2.12->tensorflow>=2.8.0->autokeras) (0.4.8)\r\n",
            "Requirement already satisfied: oauthlib>=3.0.0 in /opt/conda/lib/python3.10/site-packages (from requests-oauthlib>=0.7.0->google-auth-oauthlib<1.1,>=0.5->tensorboard<2.13,>=2.12->tensorflow>=2.8.0->autokeras) (3.2.2)\r\n",
            "Installing collected packages: namex, keras-core, keras-nlp, autokeras\r\n",
            "Successfully installed autokeras-1.1.0 keras-core-0.1.5 keras-nlp-0.6.1 namex-0.0.7\r\n",
            "Requirement already satisfied: keras_nlp in /opt/conda/lib/python3.10/site-packages (0.6.1)\r\n",
            "Requirement already satisfied: keras-core in /opt/conda/lib/python3.10/site-packages (from keras_nlp) (0.1.5)\r\n",
            "Requirement already satisfied: absl-py in /opt/conda/lib/python3.10/site-packages (from keras_nlp) (1.4.0)\r\n",
            "Requirement already satisfied: numpy in /opt/conda/lib/python3.10/site-packages (from keras_nlp) (1.23.5)\r\n",
            "Requirement already satisfied: packaging in /opt/conda/lib/python3.10/site-packages (from keras_nlp) (21.3)\r\n",
            "Requirement already satisfied: regex in /opt/conda/lib/python3.10/site-packages (from keras_nlp) (2023.6.3)\r\n",
            "Requirement already satisfied: rich in /opt/conda/lib/python3.10/site-packages (from keras_nlp) (13.4.2)\r\n",
            "Requirement already satisfied: tensorflow-text in /opt/conda/lib/python3.10/site-packages (from keras_nlp) (2.12.1)\r\n",
            "Requirement already satisfied: namex in /opt/conda/lib/python3.10/site-packages (from keras-core->keras_nlp) (0.0.7)\r\n",
            "Requirement already satisfied: h5py in /opt/conda/lib/python3.10/site-packages (from keras-core->keras_nlp) (3.9.0)\r\n",
            "Requirement already satisfied: dm-tree in /opt/conda/lib/python3.10/site-packages (from keras-core->keras_nlp) (0.1.8)\r\n",
            "Requirement already satisfied: pyparsing!=3.0.5,>=2.0.2 in /opt/conda/lib/python3.10/site-packages (from packaging->keras_nlp) (3.0.9)\r\n",
            "Requirement already satisfied: markdown-it-py>=2.2.0 in /opt/conda/lib/python3.10/site-packages (from rich->keras_nlp) (2.2.0)\r\n",
            "Requirement already satisfied: pygments<3.0.0,>=2.13.0 in /opt/conda/lib/python3.10/site-packages (from rich->keras_nlp) (2.15.1)\r\n",
            "Requirement already satisfied: tensorflow-hub>=0.8.0 in /opt/conda/lib/python3.10/site-packages (from tensorflow-text->keras_nlp) (0.12.0)\r\n",
            "Requirement already satisfied: tensorflow<2.13,>=2.12.0 in /opt/conda/lib/python3.10/site-packages (from tensorflow-text->keras_nlp) (2.12.0)\r\n",
            "Requirement already satisfied: mdurl~=0.1 in /opt/conda/lib/python3.10/site-packages (from markdown-it-py>=2.2.0->rich->keras_nlp) (0.1.0)\r\n",
            "Requirement already satisfied: astunparse>=1.6.0 in /opt/conda/lib/python3.10/site-packages (from tensorflow<2.13,>=2.12.0->tensorflow-text->keras_nlp) (1.6.3)\r\n",
            "Requirement already satisfied: flatbuffers>=2.0 in /opt/conda/lib/python3.10/site-packages (from tensorflow<2.13,>=2.12.0->tensorflow-text->keras_nlp) (23.5.26)\r\n",
            "Requirement already satisfied: gast<=0.4.0,>=0.2.1 in /opt/conda/lib/python3.10/site-packages (from tensorflow<2.13,>=2.12.0->tensorflow-text->keras_nlp) (0.4.0)\r\n",
            "Requirement already satisfied: google-pasta>=0.1.1 in /opt/conda/lib/python3.10/site-packages (from tensorflow<2.13,>=2.12.0->tensorflow-text->keras_nlp) (0.2.0)\r\n",
            "Requirement already satisfied: grpcio<2.0,>=1.24.3 in /opt/conda/lib/python3.10/site-packages (from tensorflow<2.13,>=2.12.0->tensorflow-text->keras_nlp) (1.51.1)\r\n",
            "Requirement already satisfied: jax>=0.3.15 in /opt/conda/lib/python3.10/site-packages (from tensorflow<2.13,>=2.12.0->tensorflow-text->keras_nlp) (0.4.13)\r\n",
            "Requirement already satisfied: keras<2.13,>=2.12.0 in /opt/conda/lib/python3.10/site-packages (from tensorflow<2.13,>=2.12.0->tensorflow-text->keras_nlp) (2.12.0)\r\n",
            "Requirement already satisfied: libclang>=13.0.0 in /opt/conda/lib/python3.10/site-packages (from tensorflow<2.13,>=2.12.0->tensorflow-text->keras_nlp) (16.0.0)\r\n",
            "Requirement already satisfied: opt-einsum>=2.3.2 in /opt/conda/lib/python3.10/site-packages (from tensorflow<2.13,>=2.12.0->tensorflow-text->keras_nlp) (3.3.0)\r\n",
            "Requirement already satisfied: protobuf!=4.21.0,!=4.21.1,!=4.21.2,!=4.21.3,!=4.21.4,!=4.21.5,<5.0.0dev,>=3.20.3 in /opt/conda/lib/python3.10/site-packages (from tensorflow<2.13,>=2.12.0->tensorflow-text->keras_nlp) (3.20.3)\r\n",
            "Requirement already satisfied: setuptools in /opt/conda/lib/python3.10/site-packages (from tensorflow<2.13,>=2.12.0->tensorflow-text->keras_nlp) (59.8.0)\r\n",
            "Requirement already satisfied: six>=1.12.0 in /opt/conda/lib/python3.10/site-packages (from tensorflow<2.13,>=2.12.0->tensorflow-text->keras_nlp) (1.16.0)\r\n",
            "Requirement already satisfied: tensorboard<2.13,>=2.12 in /opt/conda/lib/python3.10/site-packages (from tensorflow<2.13,>=2.12.0->tensorflow-text->keras_nlp) (2.12.3)\r\n",
            "Requirement already satisfied: tensorflow-estimator<2.13,>=2.12.0 in /opt/conda/lib/python3.10/site-packages (from tensorflow<2.13,>=2.12.0->tensorflow-text->keras_nlp) (2.12.0)\r\n",
            "Requirement already satisfied: termcolor>=1.1.0 in /opt/conda/lib/python3.10/site-packages (from tensorflow<2.13,>=2.12.0->tensorflow-text->keras_nlp) (2.3.0)\r\n",
            "Requirement already satisfied: typing-extensions>=3.6.6 in /opt/conda/lib/python3.10/site-packages (from tensorflow<2.13,>=2.12.0->tensorflow-text->keras_nlp) (4.6.3)\r\n",
            "Requirement already satisfied: wrapt<1.15,>=1.11.0 in /opt/conda/lib/python3.10/site-packages (from tensorflow<2.13,>=2.12.0->tensorflow-text->keras_nlp) (1.14.1)\r\n",
            "Requirement already satisfied: tensorflow-io-gcs-filesystem>=0.23.1 in /opt/conda/lib/python3.10/site-packages (from tensorflow<2.13,>=2.12.0->tensorflow-text->keras_nlp) (0.31.0)\r\n",
            "Requirement already satisfied: wheel<1.0,>=0.23.0 in /opt/conda/lib/python3.10/site-packages (from astunparse>=1.6.0->tensorflow<2.13,>=2.12.0->tensorflow-text->keras_nlp) (0.40.0)\r\n",
            "Requirement already satisfied: ml-dtypes>=0.1.0 in /opt/conda/lib/python3.10/site-packages (from jax>=0.3.15->tensorflow<2.13,>=2.12.0->tensorflow-text->keras_nlp) (0.2.0)\r\n",
            "Requirement already satisfied: scipy>=1.7 in /opt/conda/lib/python3.10/site-packages (from jax>=0.3.15->tensorflow<2.13,>=2.12.0->tensorflow-text->keras_nlp) (1.11.1)\r\n",
            "Requirement already satisfied: google-auth<3,>=1.6.3 in /opt/conda/lib/python3.10/site-packages (from tensorboard<2.13,>=2.12->tensorflow<2.13,>=2.12.0->tensorflow-text->keras_nlp) (2.20.0)\r\n",
            "Requirement already satisfied: google-auth-oauthlib<1.1,>=0.5 in /opt/conda/lib/python3.10/site-packages (from tensorboard<2.13,>=2.12->tensorflow<2.13,>=2.12.0->tensorflow-text->keras_nlp) (1.0.0)\r\n",
            "Requirement already satisfied: markdown>=2.6.8 in /opt/conda/lib/python3.10/site-packages (from tensorboard<2.13,>=2.12->tensorflow<2.13,>=2.12.0->tensorflow-text->keras_nlp) (3.4.3)\r\n",
            "Requirement already satisfied: requests<3,>=2.21.0 in /opt/conda/lib/python3.10/site-packages (from tensorboard<2.13,>=2.12->tensorflow<2.13,>=2.12.0->tensorflow-text->keras_nlp) (2.31.0)\r\n",
            "Requirement already satisfied: tensorboard-data-server<0.8.0,>=0.7.0 in /opt/conda/lib/python3.10/site-packages (from tensorboard<2.13,>=2.12->tensorflow<2.13,>=2.12.0->tensorflow-text->keras_nlp) (0.7.1)\r\n",
            "Requirement already satisfied: werkzeug>=1.0.1 in /opt/conda/lib/python3.10/site-packages (from tensorboard<2.13,>=2.12->tensorflow<2.13,>=2.12.0->tensorflow-text->keras_nlp) (2.3.6)\r\n",
            "Requirement already satisfied: cachetools<6.0,>=2.0.0 in /opt/conda/lib/python3.10/site-packages (from google-auth<3,>=1.6.3->tensorboard<2.13,>=2.12->tensorflow<2.13,>=2.12.0->tensorflow-text->keras_nlp) (4.2.4)\r\n",
            "Requirement already satisfied: pyasn1-modules>=0.2.1 in /opt/conda/lib/python3.10/site-packages (from google-auth<3,>=1.6.3->tensorboard<2.13,>=2.12->tensorflow<2.13,>=2.12.0->tensorflow-text->keras_nlp) (0.2.7)\r\n",
            "Requirement already satisfied: rsa<5,>=3.1.4 in /opt/conda/lib/python3.10/site-packages (from google-auth<3,>=1.6.3->tensorboard<2.13,>=2.12->tensorflow<2.13,>=2.12.0->tensorflow-text->keras_nlp) (4.9)\r\n",
            "Requirement already satisfied: urllib3<2.0 in /opt/conda/lib/python3.10/site-packages (from google-auth<3,>=1.6.3->tensorboard<2.13,>=2.12->tensorflow<2.13,>=2.12.0->tensorflow-text->keras_nlp) (1.26.15)\r\n",
            "Requirement already satisfied: requests-oauthlib>=0.7.0 in /opt/conda/lib/python3.10/site-packages (from google-auth-oauthlib<1.1,>=0.5->tensorboard<2.13,>=2.12->tensorflow<2.13,>=2.12.0->tensorflow-text->keras_nlp) (1.3.1)\r\n",
            "Requirement already satisfied: charset-normalizer<4,>=2 in /opt/conda/lib/python3.10/site-packages (from requests<3,>=2.21.0->tensorboard<2.13,>=2.12->tensorflow<2.13,>=2.12.0->tensorflow-text->keras_nlp) (3.1.0)\r\n",
            "Requirement already satisfied: idna<4,>=2.5 in /opt/conda/lib/python3.10/site-packages (from requests<3,>=2.21.0->tensorboard<2.13,>=2.12->tensorflow<2.13,>=2.12.0->tensorflow-text->keras_nlp) (3.4)\r\n",
            "Requirement already satisfied: certifi>=2017.4.17 in /opt/conda/lib/python3.10/site-packages (from requests<3,>=2.21.0->tensorboard<2.13,>=2.12->tensorflow<2.13,>=2.12.0->tensorflow-text->keras_nlp) (2023.5.7)\r\n",
            "Requirement already satisfied: MarkupSafe>=2.1.1 in /opt/conda/lib/python3.10/site-packages (from werkzeug>=1.0.1->tensorboard<2.13,>=2.12->tensorflow<2.13,>=2.12.0->tensorflow-text->keras_nlp) (2.1.3)\r\n",
            "Requirement already satisfied: pyasn1<0.5.0,>=0.4.6 in /opt/conda/lib/python3.10/site-packages (from pyasn1-modules>=0.2.1->google-auth<3,>=1.6.3->tensorboard<2.13,>=2.12->tensorflow<2.13,>=2.12.0->tensorflow-text->keras_nlp) (0.4.8)\r\n",
            "Requirement already satisfied: oauthlib>=3.0.0 in /opt/conda/lib/python3.10/site-packages (from requests-oauthlib>=0.7.0->google-auth-oauthlib<1.1,>=0.5->tensorboard<2.13,>=2.12->tensorflow<2.13,>=2.12.0->tensorflow-text->keras_nlp) (3.2.2)\r\n",
            "Requirement already satisfied: pydot in /opt/conda/lib/python3.10/site-packages (1.4.2)\r\n",
            "Requirement already satisfied: pyparsing>=2.1.4 in /opt/conda/lib/python3.10/site-packages (from pydot) (3.0.9)\r\n",
            "\r\n",
            "\r\n",
            "\r\n",
            "graphviz is already the newest version (2.42.2-6).\r\n",
            "0 upgraded, 0 newly installed, 0 to remove and 13 not upgraded.\r\n",
            "Requirement already satisfied: graphviz in /opt/conda/lib/python3.10/site-packages (0.20.1)\r\n"
          ]
        }
      ],
      "source": [
        "!pip install moviepy\n",
        "!pip install autokeras\n",
        "!pip install --upgrade keras_nlp\n",
        "!pip install pydot\n",
        "!apt-get install -y graphviz\n",
        "!pip install graphviz"
      ]
    },
    {
      "cell_type": "markdown",
      "id": "180169ad",
      "metadata": {
        "papermill": {
          "duration": 0.014668,
          "end_time": "2023-09-16T05:35:31.974853",
          "exception": false,
          "start_time": "2023-09-16T05:35:31.960185",
          "status": "completed"
        },
        "tags": [],
        "id": "180169ad"
      },
      "source": [
        "**Importing the required packages**"
      ]
    },
    {
      "cell_type": "code",
      "execution_count": null,
      "id": "cbfe1500",
      "metadata": {
        "execution": {
          "iopub.execute_input": "2023-09-16T05:35:32.007389Z",
          "iopub.status.busy": "2023-09-16T05:35:32.007002Z",
          "iopub.status.idle": "2023-09-16T05:35:48.156121Z",
          "shell.execute_reply": "2023-09-16T05:35:48.155066Z"
        },
        "papermill": {
          "duration": 16.169331,
          "end_time": "2023-09-16T05:35:48.158702",
          "exception": false,
          "start_time": "2023-09-16T05:35:31.989371",
          "status": "completed"
        },
        "tags": [],
        "id": "cbfe1500",
        "outputId": "9cbbd84f-be01-45b2-a005-4313c158c882"
      },
      "outputs": [
        {
          "name": "stderr",
          "output_type": "stream",
          "text": [
            "/opt/conda/lib/python3.10/site-packages/scipy/__init__.py:146: UserWarning: A NumPy version >=1.16.5 and <1.23.0 is required for this version of SciPy (detected version 1.23.5\n",
            "  warnings.warn(f\"A NumPy version >={np_minversion} and <{np_maxversion}\"\n",
            "/opt/conda/lib/python3.10/site-packages/tensorflow_io/python/ops/__init__.py:98: UserWarning: unable to load libtensorflow_io_plugins.so: unable to open file: libtensorflow_io_plugins.so, from paths: ['/opt/conda/lib/python3.10/site-packages/tensorflow_io/python/ops/libtensorflow_io_plugins.so']\n",
            "caused by: ['/opt/conda/lib/python3.10/site-packages/tensorflow_io/python/ops/libtensorflow_io_plugins.so: undefined symbol: _ZN3tsl6StatusC1EN10tensorflow5error4CodeESt17basic_string_viewIcSt11char_traitsIcEENS_14SourceLocationE']\n",
            "  warnings.warn(f\"unable to load libtensorflow_io_plugins.so: {e}\")\n",
            "/opt/conda/lib/python3.10/site-packages/tensorflow_io/python/ops/__init__.py:104: UserWarning: file system plugins are not loaded: unable to open file: libtensorflow_io.so, from paths: ['/opt/conda/lib/python3.10/site-packages/tensorflow_io/python/ops/libtensorflow_io.so']\n",
            "caused by: ['/opt/conda/lib/python3.10/site-packages/tensorflow_io/python/ops/libtensorflow_io.so: undefined symbol: _ZTVN10tensorflow13GcsFileSystemE']\n",
            "  warnings.warn(f\"file system plugins are not loaded: {e}\")\n"
          ]
        },
        {
          "name": "stdout",
          "output_type": "stream",
          "text": [
            "Using TensorFlow backend\n"
          ]
        }
      ],
      "source": [
        "import tensorflow as tf\n",
        "import os\n",
        "import glob\n",
        "import cv2\n",
        "import shutil\n",
        "import torchaudio\n",
        "import numpy as np\n",
        "import torch\n",
        "import matplotlib.pyplot as plt\n",
        "from sklearn.metrics import accuracy_score, precision_score, recall_score, f1_score\n",
        "from tensorflow.keras.layers import *\n",
        "from keras.models import Model\n",
        "from tensorflow.keras.models import load_model\n",
        "from tensorflow.keras.optimizers import Adam\n",
        "from tensorflow.keras.utils import to_categorical, plot_model\n",
        "from tensorflow.keras.optimizers import Adam\n",
        "import autokeras as ak\n",
        "from keras.models import save_model\n",
        "from moviepy.video.io.VideoFileClip import VideoFileClip\n",
        "import librosa\n",
        "from sklearn.model_selection import train_test_split\n",
        "import h5py\n",
        "import shutil"
      ]
    },
    {
      "cell_type": "markdown",
      "id": "381a1e13",
      "metadata": {
        "papermill": {
          "duration": 0.014678,
          "end_time": "2023-09-16T05:35:48.189072",
          "exception": false,
          "start_time": "2023-09-16T05:35:48.174394",
          "status": "completed"
        },
        "tags": [],
        "id": "381a1e13"
      },
      "source": [
        "**Set the dataset and working directory paths**"
      ]
    },
    {
      "cell_type": "code",
      "execution_count": null,
      "id": "9ac6c008",
      "metadata": {
        "execution": {
          "iopub.execute_input": "2023-09-16T05:35:48.219882Z",
          "iopub.status.busy": "2023-09-16T05:35:48.219266Z",
          "iopub.status.idle": "2023-09-16T05:35:48.224637Z",
          "shell.execute_reply": "2023-09-16T05:35:48.223606Z"
        },
        "papermill": {
          "duration": 0.023656,
          "end_time": "2023-09-16T05:35:48.227136",
          "exception": false,
          "start_time": "2023-09-16T05:35:48.203480",
          "status": "completed"
        },
        "tags": [],
        "id": "9ac6c008"
      },
      "outputs": [],
      "source": [
        "source_dir_real = '/kaggle/input/celeb-df-v2/Celeb-real'\n",
        "source_dir_fake = '/kaggle/input/celeb-df-v2/Celeb-synthesis'\n",
        "destination_dir_real = '/kaggle/working/dataset/Real'\n",
        "destination_dir_fake = '/kaggle/working/dataset/Fake'\n",
        "dataset_root = '/kaggle/working/dataset'"
      ]
    },
    {
      "cell_type": "markdown",
      "id": "99cd9a1d",
      "metadata": {
        "papermill": {
          "duration": 0.015577,
          "end_time": "2023-09-16T05:35:48.258107",
          "exception": false,
          "start_time": "2023-09-16T05:35:48.242530",
          "status": "completed"
        },
        "tags": [],
        "id": "99cd9a1d"
      },
      "source": [
        "**Clear out the working directory**"
      ]
    },
    {
      "cell_type": "code",
      "execution_count": null,
      "id": "ed594d41",
      "metadata": {
        "execution": {
          "iopub.execute_input": "2023-09-16T05:35:48.288752Z",
          "iopub.status.busy": "2023-09-16T05:35:48.288429Z",
          "iopub.status.idle": "2023-09-16T05:35:48.293406Z",
          "shell.execute_reply": "2023-09-16T05:35:48.292552Z"
        },
        "papermill": {
          "duration": 0.022503,
          "end_time": "2023-09-16T05:35:48.295566",
          "exception": false,
          "start_time": "2023-09-16T05:35:48.273063",
          "status": "completed"
        },
        "tags": [],
        "id": "ed594d41"
      },
      "outputs": [],
      "source": [
        "#shutil.rmtree(\"/kaggle/working\")"
      ]
    },
    {
      "cell_type": "markdown",
      "id": "124c905e",
      "metadata": {
        "papermill": {
          "duration": 0.013854,
          "end_time": "2023-09-16T05:35:48.323698",
          "exception": false,
          "start_time": "2023-09-16T05:35:48.309844",
          "status": "completed"
        },
        "tags": [],
        "id": "124c905e"
      },
      "source": [
        "**Data Preparation and Preprocessing**"
      ]
    },
    {
      "cell_type": "code",
      "execution_count": null,
      "id": "423b9d3e",
      "metadata": {
        "execution": {
          "iopub.execute_input": "2023-09-16T05:35:48.353281Z",
          "iopub.status.busy": "2023-09-16T05:35:48.353018Z",
          "iopub.status.idle": "2023-09-16T05:35:53.580821Z",
          "shell.execute_reply": "2023-09-16T05:35:53.579415Z"
        },
        "papermill": {
          "duration": 5.244951,
          "end_time": "2023-09-16T05:35:53.583225",
          "exception": false,
          "start_time": "2023-09-16T05:35:48.338274",
          "status": "completed"
        },
        "tags": [],
        "id": "423b9d3e",
        "outputId": "ac48bd6f-af61-4d96-9c26-7674abc61441"
      },
      "outputs": [
        {
          "name": "stdout",
          "output_type": "stream",
          "text": [
            "Files copied successfully.\n"
          ]
        }
      ],
      "source": [
        "# Create the destination directory for Real and Fake videos\n",
        "os.makedirs(destination_dir_real, exist_ok=True)\n",
        "os.makedirs(destination_dir_fake, exist_ok=True)\n",
        "\n",
        "# Get the list of REAL videos\n",
        "file_list_real = os.listdir(source_dir_real)\n",
        "\n",
        "# Copy files from the source to the destination\n",
        "for filename in file_list_real[:100]:\n",
        "    source_file = os.path.join(source_dir_real, filename)\n",
        "    destination_file = os.path.join(destination_dir_real, filename)\n",
        "    shutil.copy(source_file, destination_file)\n",
        "\n",
        "# Get the list of FAKE videos\n",
        "file_list_fake = os.listdir(source_dir_fake)\n",
        "\n",
        "# Copy the files from the source to the destination\n",
        "for filename in file_list_fake[:100]:\n",
        "    source_file = os.path.join(source_dir_fake, filename)\n",
        "    destination_file = os.path.join(destination_dir_fake, filename)\n",
        "    shutil.copy(source_file, destination_file)\n",
        "\n",
        "print(\"Files copied successfully.\")"
      ]
    },
    {
      "cell_type": "markdown",
      "id": "f272ec6a",
      "metadata": {
        "papermill": {
          "duration": 0.013834,
          "end_time": "2023-09-16T05:35:53.611883",
          "exception": false,
          "start_time": "2023-09-16T05:35:53.598049",
          "status": "completed"
        },
        "tags": [],
        "id": "f272ec6a"
      },
      "source": [
        "**Extract the audio files**"
      ]
    },
    {
      "cell_type": "code",
      "execution_count": null,
      "id": "7cfdf05d",
      "metadata": {
        "execution": {
          "iopub.execute_input": "2023-09-16T05:35:53.645991Z",
          "iopub.status.busy": "2023-09-16T05:35:53.645646Z",
          "iopub.status.idle": "2023-09-16T05:35:53.652629Z",
          "shell.execute_reply": "2023-09-16T05:35:53.651699Z"
        },
        "papermill": {
          "duration": 0.028188,
          "end_time": "2023-09-16T05:35:53.654710",
          "exception": false,
          "start_time": "2023-09-16T05:35:53.626522",
          "status": "completed"
        },
        "tags": [],
        "id": "7cfdf05d"
      },
      "outputs": [],
      "source": [
        "def extract_audio_files():\n",
        "    real_video_files = glob.glob(os.path.join(dataset_root, \"Real\", \"*.mp4\"))\n",
        "    fake_video_files = glob.glob(os.path.join(dataset_root, \"Fake\", \"*.mp4\"))\n",
        "    all_video_files = real_video_files + fake_video_files\n",
        "    for video_file in all_video_files:\n",
        "        video_clip = VideoFileClip(video_file)\n",
        "        audio_clip = video_clip.audio\n",
        "        output_audio_path = os.path.splitext(video_file)[0] + \".wav\"\n",
        "        audio_clip.write_audiofile(output_audio_path, codec='pcm_s16le')"
      ]
    },
    {
      "cell_type": "markdown",
      "id": "d7362b53",
      "metadata": {
        "papermill": {
          "duration": 0.013609,
          "end_time": "2023-09-16T05:35:53.682055",
          "exception": false,
          "start_time": "2023-09-16T05:35:53.668446",
          "status": "completed"
        },
        "tags": [],
        "id": "d7362b53"
      },
      "source": [
        "* **Load, extract and preprocess video frames**\n",
        "* **Prepare train and test data**"
      ]
    },
    {
      "cell_type": "code",
      "execution_count": null,
      "id": "19679914",
      "metadata": {
        "execution": {
          "iopub.execute_input": "2023-09-16T05:35:53.711162Z",
          "iopub.status.busy": "2023-09-16T05:35:53.710596Z",
          "iopub.status.idle": "2023-09-16T05:35:53.716856Z",
          "shell.execute_reply": "2023-09-16T05:35:53.715921Z"
        },
        "papermill": {
          "duration": 0.022934,
          "end_time": "2023-09-16T05:35:53.718880",
          "exception": false,
          "start_time": "2023-09-16T05:35:53.695946",
          "status": "completed"
        },
        "tags": [],
        "id": "19679914"
      },
      "outputs": [],
      "source": [
        "def extract_video_frames(video_path, image_size, num_frames=10):\n",
        "    video_capture = cv2.VideoCapture(video_path)\n",
        "    frame_count = int(video_capture.get(cv2.CAP_PROP_FRAME_COUNT))\n",
        "\n",
        "    frames = []\n",
        "\n",
        "    for frame_num in range(min(frame_count, num_frames)):\n",
        "        ret, frame = video_capture.read()\n",
        "        if not ret:\n",
        "            break\n",
        "\n",
        "        frame = cv2.cvtColor(frame, cv2.COLOR_BGR2RGB)\n",
        "        frame = cv2.resize(frame, image_size)\n",
        "        frames.append(frame)\n",
        "\n",
        "    return frames"
      ]
    },
    {
      "cell_type": "code",
      "execution_count": null,
      "id": "9a1afe04",
      "metadata": {
        "execution": {
          "iopub.execute_input": "2023-09-16T05:35:53.747634Z",
          "iopub.status.busy": "2023-09-16T05:35:53.747372Z",
          "iopub.status.idle": "2023-09-16T05:35:57.044159Z",
          "shell.execute_reply": "2023-09-16T05:35:57.042556Z"
        },
        "papermill": {
          "duration": 3.314365,
          "end_time": "2023-09-16T05:35:57.046986",
          "exception": false,
          "start_time": "2023-09-16T05:35:53.732621",
          "status": "completed"
        },
        "tags": [],
        "id": "9a1afe04",
        "outputId": "174f08ac-f980-4c91-fca1-0e585c1c9878"
      },
      "outputs": [
        {
          "name": "stdout",
          "output_type": "stream",
          "text": [
            "X_images_train shape: (160, 10, 64, 64, 3)\n",
            "X_images_test shape: (40, 10, 64, 64, 3)\n",
            "y_train shape: (160,)\n",
            "y_test shape: (40,)\n"
          ]
        }
      ],
      "source": [
        "dataset_root = '/kaggle/working/dataset'\n",
        "real_video_paths = glob.glob(os.path.join(dataset_root, \"Real\", \"*.mp4\"))\n",
        "fake_video_paths = glob.glob(os.path.join(dataset_root, \"Fake\", \"*.mp4\"))\n",
        "\n",
        "image_size = (64, 64)\n",
        "num_samples = 100\n",
        "X_images_real = [extract_video_frames(video_path, image_size) for video_path in real_video_paths[:num_samples]]\n",
        "X_images_fake = [extract_video_frames(video_path, image_size) for video_path in fake_video_paths[:num_samples]]\n",
        "\n",
        "# Convert to numpy arrays\n",
        "X_images_real = np.array(X_images_real)\n",
        "X_images_fake = np.array(X_images_fake)\n",
        "\n",
        "# Concatenate the data\n",
        "X_images = np.concatenate((X_images_real, X_images_fake), axis=0)\n",
        "\n",
        "# Create the labels\n",
        "y_real = np.zeros(num_samples)\n",
        "y_fake = np.ones(num_samples)\n",
        "y = np.concatenate((y_real, y_fake), axis=0)\n",
        "\n",
        "# Split the data to train and test sets\n",
        "X_images_train, X_images_test, y_train, y_test = train_test_split(\n",
        "    X_images, y, test_size=0.2, random_state=42\n",
        ")\n",
        "\n",
        "print(\"X_images_train shape:\", X_images_train.shape)\n",
        "print(\"X_images_test shape:\", X_images_test.shape)\n",
        "print(\"y_train shape:\", y_train.shape)\n",
        "print(\"y_test shape:\", y_test.shape)\n"
      ]
    },
    {
      "cell_type": "markdown",
      "id": "b654a82d",
      "metadata": {
        "papermill": {
          "duration": 0.014674,
          "end_time": "2023-09-16T05:35:57.076735",
          "exception": false,
          "start_time": "2023-09-16T05:35:57.062061",
          "status": "completed"
        },
        "tags": [],
        "id": "b654a82d"
      },
      "source": [
        "**Save the data in a HDF5 file**"
      ]
    },
    {
      "cell_type": "code",
      "execution_count": null,
      "id": "2b1f16ed",
      "metadata": {
        "execution": {
          "iopub.execute_input": "2023-09-16T05:35:57.107676Z",
          "iopub.status.busy": "2023-09-16T05:35:57.107350Z",
          "iopub.status.idle": "2023-09-16T05:35:57.135683Z",
          "shell.execute_reply": "2023-09-16T05:35:57.134762Z"
        },
        "papermill": {
          "duration": 0.046563,
          "end_time": "2023-09-16T05:35:57.137722",
          "exception": false,
          "start_time": "2023-09-16T05:35:57.091159",
          "status": "completed"
        },
        "tags": [],
        "id": "2b1f16ed"
      },
      "outputs": [],
      "source": [
        "# Save the data in a HDF5 file for faster processing and beter RAM utilization\n",
        "h5_file = h5py.File('/kaggle/working/dataset/data.h5', 'w')\n",
        "\n",
        "h5_file.create_dataset('X_images_train', data=X_images_train)\n",
        "h5_file.create_dataset('X_images_test', data=X_images_test)\n",
        "h5_file.create_dataset('y_train', data=y_train)\n",
        "h5_file.create_dataset('y_test', data=y_test)\n",
        "\n",
        "# Close the HDF5 file\n",
        "h5_file.close()"
      ]
    },
    {
      "cell_type": "markdown",
      "id": "c439ccae",
      "metadata": {
        "papermill": {
          "duration": 0.013681,
          "end_time": "2023-09-16T05:35:57.166534",
          "exception": false,
          "start_time": "2023-09-16T05:35:57.152853",
          "status": "completed"
        },
        "tags": [],
        "id": "c439ccae"
      },
      "source": [
        "**Flush out the heavily loaded variables from memory**"
      ]
    },
    {
      "cell_type": "code",
      "execution_count": null,
      "id": "1b2e92b3",
      "metadata": {
        "execution": {
          "iopub.execute_input": "2023-09-16T05:35:57.196672Z",
          "iopub.status.busy": "2023-09-16T05:35:57.196378Z",
          "iopub.status.idle": "2023-09-16T05:35:57.201036Z",
          "shell.execute_reply": "2023-09-16T05:35:57.200058Z"
        },
        "papermill": {
          "duration": 0.022019,
          "end_time": "2023-09-16T05:35:57.203058",
          "exception": false,
          "start_time": "2023-09-16T05:35:57.181039",
          "status": "completed"
        },
        "tags": [],
        "id": "1b2e92b3"
      },
      "outputs": [],
      "source": [
        "del X_images_train\n",
        "del X_images_test\n",
        "del y_train\n",
        "del y_test"
      ]
    },
    {
      "cell_type": "code",
      "execution_count": null,
      "id": "a41f3717",
      "metadata": {
        "execution": {
          "iopub.execute_input": "2023-09-16T05:35:57.260927Z",
          "iopub.status.busy": "2023-09-16T05:35:57.260614Z",
          "iopub.status.idle": "2023-09-16T05:35:57.541091Z",
          "shell.execute_reply": "2023-09-16T05:35:57.540011Z"
        },
        "papermill": {
          "duration": 0.299646,
          "end_time": "2023-09-16T05:35:57.544830",
          "exception": false,
          "start_time": "2023-09-16T05:35:57.245184",
          "status": "completed"
        },
        "tags": [],
        "id": "a41f3717",
        "outputId": "010097c9-c1d8-4507-ca73-7550ea688e65"
      },
      "outputs": [
        {
          "data": {
            "text/plain": [
              "0"
            ]
          },
          "execution_count": 11,
          "metadata": {},
          "output_type": "execute_result"
        }
      ],
      "source": [
        "import gc\n",
        "gc.collect()"
      ]
    },
    {
      "cell_type": "markdown",
      "id": "1a3daff1",
      "metadata": {
        "papermill": {
          "duration": 0.014923,
          "end_time": "2023-09-16T05:35:57.575226",
          "exception": false,
          "start_time": "2023-09-16T05:35:57.560303",
          "status": "completed"
        },
        "tags": [],
        "id": "1a3daff1"
      },
      "source": [
        "**Build the Generator and Discriminator models for the GAN architecture.**"
      ]
    },
    {
      "cell_type": "code",
      "execution_count": null,
      "id": "67c727ba",
      "metadata": {
        "execution": {
          "iopub.execute_input": "2023-09-16T05:35:57.606806Z",
          "iopub.status.busy": "2023-09-16T05:35:57.606460Z",
          "iopub.status.idle": "2023-09-16T05:36:07.591550Z",
          "shell.execute_reply": "2023-09-16T05:36:07.590630Z"
        },
        "papermill": {
          "duration": 10.003311,
          "end_time": "2023-09-16T05:36:07.593880",
          "exception": false,
          "start_time": "2023-09-16T05:35:57.590569",
          "status": "completed"
        },
        "tags": [],
        "id": "67c727ba",
        "outputId": "bbca6988-72e0-4512-9560-4408cc1f53d3"
      },
      "outputs": [
        {
          "name": "stdout",
          "output_type": "stream",
          "text": [
            "Model: \"model\"\n",
            "_________________________________________________________________\n",
            " Layer (type)                Output Shape              Param #   \n",
            "=================================================================\n",
            " input_1 (InputLayer)        [(None, 10)]              0         \n",
            "                                                                 \n",
            " dense (Dense)               (None, 64)                704       \n",
            "                                                                 \n",
            " leaky_re_lu (LeakyReLU)     (None, 64)                0         \n",
            "                                                                 \n",
            " dense_1 (Dense)             (None, 128)               8320      \n",
            "                                                                 \n",
            " leaky_re_lu_1 (LeakyReLU)   (None, 128)               0         \n",
            "                                                                 \n",
            " dense_2 (Dense)             (None, 12288)             1585152   \n",
            "                                                                 \n",
            " reshape (Reshape)           (None, 64, 64, 3)         0         \n",
            "                                                                 \n",
            "=================================================================\n",
            "Total params: 1,594,176\n",
            "Trainable params: 1,594,176\n",
            "Non-trainable params: 0\n",
            "_________________________________________________________________\n",
            "Model: \"model_1\"\n",
            "_________________________________________________________________\n",
            " Layer (type)                Output Shape              Param #   \n",
            "=================================================================\n",
            " input_2 (InputLayer)        [(None, 64, 64, 3)]       0         \n",
            "                                                                 \n",
            " dense_3 (Dense)             (None, 64, 64, 128)       512       \n",
            "                                                                 \n",
            " leaky_re_lu_2 (LeakyReLU)   (None, 64, 64, 128)       0         \n",
            "                                                                 \n",
            " dense_4 (Dense)             (None, 64, 64, 64)        8256      \n",
            "                                                                 \n",
            " leaky_re_lu_3 (LeakyReLU)   (None, 64, 64, 64)        0         \n",
            "                                                                 \n",
            " dense_5 (Dense)             (None, 64, 64, 1)         65        \n",
            "                                                                 \n",
            "=================================================================\n",
            "Total params: 8,833\n",
            "Trainable params: 0\n",
            "Non-trainable params: 8,833\n",
            "_________________________________________________________________\n",
            "Model: \"model_2\"\n",
            "_________________________________________________________________\n",
            " Layer (type)                Output Shape              Param #   \n",
            "=================================================================\n",
            " input_3 (InputLayer)        [(None, 10)]              0         \n",
            "                                                                 \n",
            " model (Functional)          (None, 64, 64, 3)         1594176   \n",
            "                                                                 \n",
            " model_1 (Functional)        (None, 64, 64, 1)         8833      \n",
            "                                                                 \n",
            "=================================================================\n",
            "Total params: 1,603,009\n",
            "Trainable params: 1,594,176\n",
            "Non-trainable params: 8,833\n",
            "_________________________________________________________________\n"
          ]
        },
        {
          "data": {
            "image/png": "[encoded data removed]",
            "text/plain": [
              "<IPython.core.display.Image object>"
            ]
          },
          "execution_count": 12,
          "metadata": {},
          "output_type": "execute_result"
        }
      ],
      "source": [
        "latent_dim = 10\n",
        "image_shape = (64, 64, 3)\n",
        "output_shape = (64, 64, 3)\n",
        "\n",
        "# Build the Generator model\n",
        "def build_generator(latent_dim, output_shape):\n",
        "    generator_input = Input(shape=(latent_dim,))\n",
        "    x = Dense(64)(generator_input)\n",
        "    x = LeakyReLU()(x)\n",
        "    x = Dense(128)(x)\n",
        "    x = LeakyReLU()(x)\n",
        "\n",
        "    # Calculate the number of units in the Dense layer for the generator output\n",
        "    num_units = output_shape[0] * output_shape[1] * output_shape[2]\n",
        "\n",
        "    # Generator output with a Dense layer and reshape\n",
        "    generated_data = Dense(num_units, activation='tanh')(x)\n",
        "    generated_data = Reshape(output_shape)(generated_data)\n",
        "\n",
        "    generator = Model(generator_input, generated_data)\n",
        "    return generator\n",
        "\n",
        "# Build the Discriminator model\n",
        "def build_discriminator(input_shape):\n",
        "    discriminator_input = Input(shape=input_shape)\n",
        "    x = Dense(128)(discriminator_input)\n",
        "    x = LeakyReLU()(x)\n",
        "    x = Dense(64)(x)\n",
        "    x = LeakyReLU()(x)\n",
        "    validity = Dense(1, activation='sigmoid')(x)\n",
        "    discriminator = Model(discriminator_input, validity)\n",
        "    return discriminator\n",
        "\n",
        "# Build the GAN model\n",
        "def build_gan(generator, discriminator):\n",
        "    discriminator.trainable = False\n",
        "    gan_input = Input(shape=(latent_dim,))\n",
        "    generated_data = generator(gan_input)\n",
        "    gan_output = discriminator(generated_data)\n",
        "    gan = Model(gan_input, gan_output)\n",
        "    return gan\n",
        "\n",
        "generator = build_generator(latent_dim, output_shape)\n",
        "discriminator = build_discriminator(output_shape)\n",
        "gan = build_gan(generator, discriminator)\n",
        "\n",
        "# Print the model summaries\n",
        "generator.summary()\n",
        "discriminator.summary()\n",
        "gan.summary()\n",
        "\n",
        "# Plot the model architectures\n",
        "plot_model(generator, show_shapes=True, to_file=\"generator.png\")\n",
        "plot_model(discriminator, show_shapes=True, to_file=\"discriminator.png\")\n",
        "plot_model(gan, show_shapes=True, to_file=\"gan.png\")"
      ]
    },
    {
      "cell_type": "markdown",
      "id": "100aeb8c",
      "metadata": {
        "papermill": {
          "duration": 0.020819,
          "end_time": "2023-09-16T05:36:07.635185",
          "exception": false,
          "start_time": "2023-09-16T05:36:07.614366",
          "status": "completed"
        },
        "tags": [],
        "id": "100aeb8c"
      },
      "source": [
        "**Multimodal Fusion for Additional Modalities - Apply multimodal fusion on image data - RGB and GrayScale modalities**\n"
      ]
    },
    {
      "cell_type": "code",
      "execution_count": null,
      "id": "fd0710b7",
      "metadata": {
        "execution": {
          "iopub.execute_input": "2023-09-16T05:36:07.676705Z",
          "iopub.status.busy": "2023-09-16T05:36:07.676384Z",
          "iopub.status.idle": "2023-09-16T05:36:07.684249Z",
          "shell.execute_reply": "2023-09-16T05:36:07.683306Z"
        },
        "papermill": {
          "duration": 0.030663,
          "end_time": "2023-09-16T05:36:07.686135",
          "exception": false,
          "start_time": "2023-09-16T05:36:07.655472",
          "status": "completed"
        },
        "tags": [],
        "id": "fd0710b7"
      },
      "outputs": [],
      "source": [
        "def multimodal_fusion(images, num_modalities):\n",
        "    num_samples, num_frames, height, width, channels = images.shape\n",
        "\n",
        "    # Create additional modalities by converting images to grayscale\n",
        "    additional_modalities = []\n",
        "    for i in range(1, num_modalities):\n",
        "        modified_images = []\n",
        "        for frame in range(num_frames):\n",
        "            grayscale_frame = np.mean(images[:, frame], axis=-1, keepdims=True)\n",
        "            modified_images.append(grayscale_frame)\n",
        "        additional_modalities.append(np.array(modified_images))\n",
        "\n",
        "    # Tile the additional modalities to match the number of frames\n",
        "    tiled_modalities = [modalities[:, np.newaxis] for modalities in additional_modalities]\n",
        "    tiled_modalities = [np.tile(modalities, (1, num_frames, 1, 1, 1)) for modalities in tiled_modalities]\n",
        "\n",
        "    # Concatenate the original images and additional modalities along the channel axis\n",
        "    fused_data = np.concatenate((images, *tiled_modalities), axis=-1)\n",
        "    return fused_data"
      ]
    },
    {
      "cell_type": "markdown",
      "id": "04b0bb6b",
      "metadata": {
        "papermill": {
          "duration": 0.021558,
          "end_time": "2023-09-16T05:36:07.726646",
          "exception": false,
          "start_time": "2023-09-16T05:36:07.705088",
          "status": "completed"
        },
        "tags": [],
        "id": "04b0bb6b"
      },
      "source": [
        "**Create additional modalities**"
      ]
    },
    {
      "cell_type": "code",
      "execution_count": null,
      "id": "af0bcb88",
      "metadata": {
        "execution": {
          "iopub.execute_input": "2023-09-16T05:36:07.767403Z",
          "iopub.status.busy": "2023-09-16T05:36:07.766752Z",
          "iopub.status.idle": "2023-09-16T05:36:07.791343Z",
          "shell.execute_reply": "2023-09-16T05:36:07.789926Z"
        },
        "papermill": {
          "duration": 0.04718,
          "end_time": "2023-09-16T05:36:07.793519",
          "exception": false,
          "start_time": "2023-09-16T05:36:07.746339",
          "status": "completed"
        },
        "tags": [],
        "id": "af0bcb88",
        "outputId": "8506f8e3-f629-422b-eaad-bd6f57bdf241"
      },
      "outputs": [
        {
          "name": "stdout",
          "output_type": "stream",
          "text": [
            "Fused batch X_train shape: (40, 10, 64, 64, 3)\n",
            "Fused batch X_train shape: (40, 10, 64, 64, 3)\n",
            "Fused batch X_train shape: (40, 10, 64, 64, 3)\n",
            "Fused batch X_train shape: (40, 10, 64, 64, 3)\n"
          ]
        }
      ],
      "source": [
        "batch_size = 40\n",
        "num_modalities = 1 #Add GrayScale with RGB modality\n",
        "\n",
        "# Load the data from the file\n",
        "h5_file = h5py.File('/kaggle/working/dataset/data.h5', 'r')\n",
        "num_samples = len(h5_file['X_images_train'])\n",
        "y_train = h5_file['y_train'][:]\n",
        "\n",
        "multimodal_data = []\n",
        "\n",
        "for batch_start in range(0, num_samples, batch_size):\n",
        "    batch_end = min(batch_start + batch_size, num_samples)\n",
        "    batch_X_images_train = h5_file['X_images_train'][batch_start:batch_end]\n",
        "    #batch_X_images_test = h5_file['X_images_test'][batch_start:batch_end]\n",
        "\n",
        "    # Perform multimodal fusion on the current batch\n",
        "    fused_batch_X_train = multimodal_fusion(batch_X_images_train, num_modalities)\n",
        "    #fused_batch_X_test = multimodal_fusion(batch_X_images_test, num_modalities)\n",
        "    multimodal_data.append(fused_batch_X_train)\n",
        "    print(\"Fused batch X_train shape:\", fused_batch_X_train.shape)\n",
        "    #print(\"Fused batch X_test shape:\", fused_batch_X_test.shape)\n",
        "\n",
        "h5_file.close()"
      ]
    },
    {
      "cell_type": "markdown",
      "id": "5a545cc7",
      "metadata": {
        "papermill": {
          "duration": 0.019539,
          "end_time": "2023-09-16T05:36:07.833034",
          "exception": false,
          "start_time": "2023-09-16T05:36:07.813495",
          "status": "completed"
        },
        "tags": [],
        "id": "5a545cc7"
      },
      "source": [
        "**Neural Architecture Search (NAS) Model - Create an image-based AutoKeras model and train it**"
      ]
    },
    {
      "cell_type": "code",
      "execution_count": null,
      "id": "055b02f9",
      "metadata": {
        "execution": {
          "iopub.execute_input": "2023-09-16T05:36:07.874135Z",
          "iopub.status.busy": "2023-09-16T05:36:07.873285Z",
          "iopub.status.idle": "2023-09-16T05:38:47.241641Z",
          "shell.execute_reply": "2023-09-16T05:38:47.240636Z"
        },
        "papermill": {
          "duration": 159.392669,
          "end_time": "2023-09-16T05:38:47.245612",
          "exception": false,
          "start_time": "2023-09-16T05:36:07.852943",
          "status": "completed"
        },
        "tags": [],
        "id": "055b02f9",
        "outputId": "a79ddc98-4b7a-469f-e39e-01474fac33aa"
      },
      "outputs": [
        {
          "name": "stdout",
          "output_type": "stream",
          "text": [
            "Trial 2 Complete [00h 02m 01s]\n",
            "val_loss: 1.8735977411270142\n",
            "\n",
            "Best val_loss So Far: 0.2527284026145935\n",
            "Total elapsed time: 00h 02m 27s\n",
            "Epoch 1/4\n"
          ]
        },
        {
          "name": "stderr",
          "output_type": "stream",
          "text": [
            "2023-09-16 05:38:39.162268: E tensorflow/core/grappler/optimizers/meta_optimizer.cc:954] layout failed: INVALID_ARGUMENT: Size of values 0 does not match size of permutation 4 @ fanin shape inmodel/dropout/dropout/SelectV2-2-TransposeNHWCToNCHW-LayoutOptimizer\n"
          ]
        },
        {
          "name": "stdout",
          "output_type": "stream",
          "text": [
            "50/50 [==============================] - 2s 16ms/step - loss: 0.8102 - accuracy: 0.5344 - val_loss: 0.6197 - val_accuracy: 0.5875\n",
            "Epoch 2/4\n",
            "50/50 [==============================] - 1s 13ms/step - loss: 0.6208 - accuracy: 0.6806 - val_loss: 0.4868 - val_accuracy: 0.6906\n",
            "Epoch 3/4\n",
            "50/50 [==============================] - 1s 12ms/step - loss: 0.4451 - accuracy: 0.8056 - val_loss: 0.4015 - val_accuracy: 0.7875\n",
            "Epoch 4/4\n",
            "50/50 [==============================] - 1s 12ms/step - loss: 0.3920 - accuracy: 0.8612 - val_loss: 0.6954 - val_accuracy: 0.6313\n",
            "dict_keys(['loss', 'accuracy', 'val_loss', 'val_accuracy'])\n"
          ]
        }
      ],
      "source": [
        "# Stack the multimodal data\n",
        "fused_X_train = np.vstack(multimodal_data)\n",
        "\n",
        "# Get the dimensions from the shape of fused_X_train\n",
        "num_samples, num_frames, height, width, channels = fused_X_train.shape\n",
        "\n",
        "# Reshape the data to match AutoKeras expected format\n",
        "reshaped_X_train = fused_X_train.reshape((-1, height, width, channels))\n",
        "\n",
        "# Reshape again to treat each frame as a separate sample\n",
        "reshaped_X_train = reshaped_X_train.reshape((-1, height, width, channels))\n",
        "\n",
        "# Reshape y_train to match the new number of samples\n",
        "reshaped_y_train = np.repeat(y_train, num_frames, axis=0)\n",
        "\n",
        "print(\"reshaped_X_train shape:\", reshaped_X_train.shape)\n",
        "print(\"reshaped_y_train shape:\", reshaped_y_train.shape)\n",
        "\n",
        "X_train, X_val, y_train, y_val = train_test_split(reshaped_X_train, reshaped_y_train, test_size=0.2, random_state=42)\n",
        "\n",
        "# Create the image-based AutoKeras model\n",
        "search = ak.ImageClassifier(max_trials=2)\n",
        "\n",
        "# Train the NAS model\n",
        "history = search.fit(reshaped_X_train, reshaped_y_train, epochs=4, validation_data=(X_val, y_val))\n",
        "print(history.history.keys())\n",
        "\n",
        "# Export the best model architecture\n",
        "best_model = search.export_model()"
      ]
    },
    {
      "cell_type": "markdown",
      "id": "5a54f2a5",
      "metadata": {
        "papermill": {
          "duration": 0.023186,
          "end_time": "2023-09-16T05:38:47.293252",
          "exception": false,
          "start_time": "2023-09-16T05:38:47.270066",
          "status": "completed"
        },
        "tags": [],
        "id": "5a54f2a5"
      },
      "source": [
        "**Save the model and explore it**"
      ]
    },
    {
      "cell_type": "code",
      "execution_count": null,
      "id": "8ab6db69",
      "metadata": {
        "execution": {
          "iopub.execute_input": "2023-09-16T05:38:47.343608Z",
          "iopub.status.busy": "2023-09-16T05:38:47.343252Z",
          "iopub.status.idle": "2023-09-16T05:38:47.525757Z",
          "shell.execute_reply": "2023-09-16T05:38:47.524743Z"
        },
        "papermill": {
          "duration": 0.2102,
          "end_time": "2023-09-16T05:38:47.527950",
          "exception": false,
          "start_time": "2023-09-16T05:38:47.317750",
          "status": "completed"
        },
        "tags": [],
        "id": "8ab6db69",
        "outputId": "34594b14-a762-446d-c10d-6fbec5b4eaf2"
      },
      "outputs": [
        {
          "name": "stdout",
          "output_type": "stream",
          "text": [
            "Model: \"model\"\n",
            "_________________________________________________________________\n",
            " Layer (type)                Output Shape              Param #   \n",
            "=================================================================\n",
            " input_1 (InputLayer)        [(None, 64, 64, 3)]       0         \n",
            "                                                                 \n",
            " cast_to_float32 (CastToFloa  (None, 64, 64, 3)        0         \n",
            " t32)                                                            \n",
            "                                                                 \n",
            " normalization (Normalizatio  (None, 64, 64, 3)        7         \n",
            " n)                                                              \n",
            "                                                                 \n",
            " conv2d (Conv2D)             (None, 62, 62, 32)        896       \n",
            "                                                                 \n",
            " conv2d_1 (Conv2D)           (None, 60, 60, 64)        18496     \n",
            "                                                                 \n",
            " max_pooling2d (MaxPooling2D  (None, 30, 30, 64)       0         \n",
            " )                                                               \n",
            "                                                                 \n",
            " dropout (Dropout)           (None, 30, 30, 64)        0         \n",
            "                                                                 \n",
            " flatten (Flatten)           (None, 57600)             0         \n",
            "                                                                 \n",
            " dropout_1 (Dropout)         (None, 57600)             0         \n",
            "                                                                 \n",
            " dense (Dense)               (None, 1)                 57601     \n",
            "                                                                 \n",
            " classification_head_1 (Acti  (None, 1)                0         \n",
            " vation)                                                         \n",
            "                                                                 \n",
            "=================================================================\n",
            "Total params: 77,000\n",
            "Trainable params: 76,993\n",
            "Non-trainable params: 7\n",
            "_________________________________________________________________\n"
          ]
        },
        {
          "data": {
            "image/png": "[encoded data removed]",
            "text/plain": [
              "<IPython.core.display.Image object>"
            ]
          },
          "execution_count": 16,
          "metadata": {},
          "output_type": "execute_result"
        }
      ],
      "source": [
        "# Save the model\n",
        "save_model(best_model, '/content/')\n",
        "\n",
        "# Print the model\n",
        "best_model.summary()\n",
        "\n",
        "# Plot the architecture of the model\n",
        "plot_model(best_model, show_shapes=True, to_file=\"best_model.png\")"
      ]
    },
    {
      "cell_type": "markdown",
      "id": "38105bc3",
      "metadata": {
        "papermill": {
          "duration": 0.028666,
          "end_time": "2023-09-16T05:38:47.584763",
          "exception": false,
          "start_time": "2023-09-16T05:38:47.556097",
          "status": "completed"
        },
        "tags": [],
        "id": "38105bc3"
      },
      "source": [
        "* **Using training set Train the model **\n",
        "* **Evaluate the model using the validation set**"
      ]
    },
    {
      "cell_type": "code",
      "execution_count": null,
      "id": "962a6b08",
      "metadata": {
        "execution": {
          "iopub.execute_input": "2023-09-16T05:38:47.641877Z",
          "iopub.status.busy": "2023-09-16T05:38:47.641515Z",
          "iopub.status.idle": "2023-09-16T05:38:58.743674Z",
          "shell.execute_reply": "2023-09-16T05:38:58.742482Z"
        },
        "papermill": {
          "duration": 11.133221,
          "end_time": "2023-09-16T05:38:58.746074",
          "exception": false,
          "start_time": "2023-09-16T05:38:47.612853",
          "status": "completed"
        },
        "tags": [],
        "id": "962a6b08",
        "outputId": "c3163f40-23eb-489b-be61-d6bae56f2841"
      },
      "outputs": [
        {
          "name": "stdout",
          "output_type": "stream",
          "text": [
            "Epoch 1/20\n"
          ]
        },
        {
          "name": "stderr",
          "output_type": "stream",
          "text": [
            "2023-09-16 05:38:48.319681: E tensorflow/core/grappler/optimizers/meta_optimizer.cc:954] layout failed: INVALID_ARGUMENT: Size of values 0 does not match size of permutation 4 @ fanin shape inmodel/dropout/dropout/SelectV2-2-TransposeNHWCToNCHW-LayoutOptimizer\n"
          ]
        },
        {
          "name": "stdout",
          "output_type": "stream",
          "text": [
            "32/32 [==============================] - 2s 18ms/step - loss: 0.2375 - accuracy: 0.9014 - val_loss: 0.1651 - val_accuracy: 0.9375\n",
            "Epoch 2/20\n",
            "32/32 [==============================] - 0s 11ms/step - loss: 0.1316 - accuracy: 0.9443 - val_loss: 0.1362 - val_accuracy: 0.9297\n",
            "Epoch 3/20\n",
            "32/32 [==============================] - 0s 12ms/step - loss: 0.1402 - accuracy: 0.9395 - val_loss: 0.1300 - val_accuracy: 0.9336\n",
            "Epoch 4/20\n",
            "32/32 [==============================] - 0s 11ms/step - loss: 0.1262 - accuracy: 0.9434 - val_loss: 0.1115 - val_accuracy: 0.9570\n",
            "Epoch 5/20\n",
            "32/32 [==============================] - 0s 11ms/step - loss: 0.1178 - accuracy: 0.9395 - val_loss: 0.1107 - val_accuracy: 0.9609\n",
            "Epoch 6/20\n",
            "32/32 [==============================] - 0s 12ms/step - loss: 0.1021 - accuracy: 0.9443 - val_loss: 0.0859 - val_accuracy: 0.9570\n",
            "Epoch 7/20\n",
            "32/32 [==============================] - 0s 12ms/step - loss: 0.0985 - accuracy: 0.9512 - val_loss: 0.0909 - val_accuracy: 0.9492\n",
            "Epoch 8/20\n",
            "32/32 [==============================] - 0s 12ms/step - loss: 0.1003 - accuracy: 0.9561 - val_loss: 0.1238 - val_accuracy: 0.9531\n",
            "Epoch 9/20\n",
            "32/32 [==============================] - 0s 12ms/step - loss: 0.0942 - accuracy: 0.9521 - val_loss: 0.0867 - val_accuracy: 0.9609\n",
            "Epoch 10/20\n",
            "32/32 [==============================] - 0s 11ms/step - loss: 0.0812 - accuracy: 0.9570 - val_loss: 0.1065 - val_accuracy: 0.9336\n",
            "Epoch 11/20\n",
            "32/32 [==============================] - 0s 11ms/step - loss: 0.0926 - accuracy: 0.9580 - val_loss: 0.0782 - val_accuracy: 0.9688\n",
            "Epoch 12/20\n",
            "32/32 [==============================] - 0s 11ms/step - loss: 0.0787 - accuracy: 0.9707 - val_loss: 0.0834 - val_accuracy: 0.9609\n",
            "Epoch 13/20\n",
            "32/32 [==============================] - 0s 13ms/step - loss: 0.0840 - accuracy: 0.9629 - val_loss: 0.0927 - val_accuracy: 0.9688\n",
            "Epoch 14/20\n",
            "32/32 [==============================] - 0s 13ms/step - loss: 0.0739 - accuracy: 0.9688 - val_loss: 0.0706 - val_accuracy: 0.9805\n",
            "Epoch 15/20\n",
            "32/32 [==============================] - 0s 11ms/step - loss: 0.0692 - accuracy: 0.9727 - val_loss: 0.0692 - val_accuracy: 0.9648\n",
            "Epoch 16/20\n",
            "32/32 [==============================] - 0s 11ms/step - loss: 0.0656 - accuracy: 0.9688 - val_loss: 0.0831 - val_accuracy: 0.9531\n",
            "Epoch 17/20\n",
            "32/32 [==============================] - 0s 11ms/step - loss: 0.0689 - accuracy: 0.9678 - val_loss: 0.0642 - val_accuracy: 0.9688\n",
            "Epoch 18/20\n",
            "32/32 [==============================] - 0s 12ms/step - loss: 0.0515 - accuracy: 0.9766 - val_loss: 0.0572 - val_accuracy: 0.9766\n",
            "Epoch 19/20\n",
            "32/32 [==============================] - 0s 12ms/step - loss: 0.0481 - accuracy: 0.9775 - val_loss: 0.0842 - val_accuracy: 0.9570\n",
            "Epoch 20/20\n",
            "32/32 [==============================] - 0s 11ms/step - loss: 0.0634 - accuracy: 0.9746 - val_loss: 0.0761 - val_accuracy: 0.9531\n",
            "10/10 [==============================] - 0s 4ms/step - loss: 0.0632 - accuracy: 0.9625\n",
            "Test Loss: 0.0632188692688942, Test Accuracy: 0.9624999761581421\n"
          ]
        }
      ],
      "source": [
        "# Compile the best model\n",
        "best_model.compile(optimizer='adam', loss='binary_crossentropy', metrics=['accuracy'])\n",
        "\n",
        "# Train the model with the dataset\n",
        "best_model.fit(X_train, y_train, epochs=20, batch_size=32, validation_split=0.2)\n",
        "\n",
        "# Evaluate the model on the test data\n",
        "test_loss, test_accuracy = best_model.evaluate(X_val, y_val)\n",
        "print(f\"Test Loss: {test_loss}, Test Accuracy: {test_accuracy}\")"
      ]
    },
    {
      "cell_type": "markdown",
      "id": "8c2c83e9",
      "metadata": {
        "papermill": {
          "duration": 0.040392,
          "end_time": "2023-09-16T05:38:58.827829",
          "exception": false,
          "start_time": "2023-09-16T05:38:58.787437",
          "status": "completed"
        },
        "tags": [],
        "id": "8c2c83e9"
      },
      "source": [
        "**Training History Plotted**"
      ]
    },
    {
      "cell_type": "code",
      "execution_count": null,
      "id": "e6fb6368",
      "metadata": {
        "execution": {
          "iopub.execute_input": "2023-09-16T05:38:58.912168Z",
          "iopub.status.busy": "2023-09-16T05:38:58.911238Z",
          "iopub.status.idle": "2023-09-16T05:38:59.267762Z",
          "shell.execute_reply": "2023-09-16T05:38:59.266787Z"
        },
        "papermill": {
          "duration": 0.400685,
          "end_time": "2023-09-16T05:38:59.269900",
          "exception": false,
          "start_time": "2023-09-16T05:38:58.869215",
          "status": "completed"
        },
        "tags": [],
        "id": "e6fb6368",
        "outputId": "c137c8b9-e05b-4bff-f4f8-d71a60a5acaa"
      },
      "outputs": [
        {
          "data": {
            "image/png": "[encoded data removed]",
            "text/plain": [
              "<Figure size 640x480 with 1 Axes>"
            ]
          },
          "metadata": {},
          "output_type": "display_data"
        }
      ],
      "source": [
        "plt.plot(history.history['accuracy'], label='accuracy')\n",
        "plt.plot(history.history['val_accuracy'], label='val_accuracy')\n",
        "plt.plot(history.history['loss'], label='loss')\n",
        "plt.plot(history.history['val_loss'], label='val_loss')\n",
        "plt.xlabel('Epoch')\n",
        "plt.ylabel('Value')\n",
        "plt.legend(loc='lower right')\n",
        "plt.title('Training History')\n",
        "plt.show()"
      ]
    },
    {
      "cell_type": "code",
      "source": [
        "!pip install nbconvert"
      ],
      "metadata": {
        "colab": {
          "base_uri": "https://localhost:8080/"
        },
        "id": "_EURHjlDdwzN",
        "outputId": "c095f5fa-ba58-4d05-cdf4-241bf2fc24ed"
      },
      "id": "_EURHjlDdwzN",
      "execution_count": 2,
      "outputs": [
        {
          "output_type": "stream",
          "name": "stdout",
          "text": [
            "Requirement already satisfied: nbconvert in /usr/local/lib/python3.10/dist-packages (6.5.4)\n",
            "Requirement already satisfied: lxml in /usr/local/lib/python3.10/dist-packages (from nbconvert) (4.9.3)\n",
            "Requirement already satisfied: beautifulsoup4 in /usr/local/lib/python3.10/dist-packages (from nbconvert) (4.11.2)\n",
            "Requirement already satisfied: bleach in /usr/local/lib/python3.10/dist-packages (from nbconvert) (6.1.0)\n",
            "Requirement already satisfied: defusedxml in /usr/local/lib/python3.10/dist-packages (from nbconvert) (0.7.1)\n",
            "Requirement already satisfied: entrypoints>=0.2.2 in /usr/local/lib/python3.10/dist-packages (from nbconvert) (0.4)\n",
            "Requirement already satisfied: jinja2>=3.0 in /usr/local/lib/python3.10/dist-packages (from nbconvert) (3.1.2)\n",
            "Requirement already satisfied: jupyter-core>=4.7 in /usr/local/lib/python3.10/dist-packages (from nbconvert) (5.5.0)\n",
            "Requirement already satisfied: jupyterlab-pygments in /usr/local/lib/python3.10/dist-packages (from nbconvert) (0.3.0)\n",
            "Requirement already satisfied: MarkupSafe>=2.0 in /usr/local/lib/python3.10/dist-packages (from nbconvert) (2.1.3)\n",
            "Requirement already satisfied: mistune<2,>=0.8.1 in /usr/local/lib/python3.10/dist-packages (from nbconvert) (0.8.4)\n",
            "Requirement already satisfied: nbclient>=0.5.0 in /usr/local/lib/python3.10/dist-packages (from nbconvert) (0.9.0)\n",
            "Requirement already satisfied: nbformat>=5.1 in /usr/local/lib/python3.10/dist-packages (from nbconvert) (5.9.2)\n",
            "Requirement already satisfied: packaging in /usr/local/lib/python3.10/dist-packages (from nbconvert) (23.2)\n",
            "Requirement already satisfied: pandocfilters>=1.4.1 in /usr/local/lib/python3.10/dist-packages (from nbconvert) (1.5.0)\n",
            "Requirement already satisfied: pygments>=2.4.1 in /usr/local/lib/python3.10/dist-packages (from nbconvert) (2.16.1)\n",
            "Requirement already satisfied: tinycss2 in /usr/local/lib/python3.10/dist-packages (from nbconvert) (1.2.1)\n",
            "Requirement already satisfied: traitlets>=5.0 in /usr/local/lib/python3.10/dist-packages (from nbconvert) (5.7.1)\n",
            "Requirement already satisfied: platformdirs>=2.5 in /usr/local/lib/python3.10/dist-packages (from jupyter-core>=4.7->nbconvert) (4.0.0)\n",
            "Requirement already satisfied: jupyter-client>=6.1.12 in /usr/local/lib/python3.10/dist-packages (from nbclient>=0.5.0->nbconvert) (6.1.12)\n",
            "Requirement already satisfied: fastjsonschema in /usr/local/lib/python3.10/dist-packages (from nbformat>=5.1->nbconvert) (2.19.0)\n",
            "Requirement already satisfied: jsonschema>=2.6 in /usr/local/lib/python3.10/dist-packages (from nbformat>=5.1->nbconvert) (4.19.2)\n",
            "Requirement already satisfied: soupsieve>1.2 in /usr/local/lib/python3.10/dist-packages (from beautifulsoup4->nbconvert) (2.5)\n",
            "Requirement already satisfied: six>=1.9.0 in /usr/local/lib/python3.10/dist-packages (from bleach->nbconvert) (1.16.0)\n",
            "Requirement already satisfied: webencodings in /usr/local/lib/python3.10/dist-packages (from bleach->nbconvert) (0.5.1)\n",
            "Requirement already satisfied: attrs>=22.2.0 in /usr/local/lib/python3.10/dist-packages (from jsonschema>=2.6->nbformat>=5.1->nbconvert) (23.1.0)\n",
            "Requirement already satisfied: jsonschema-specifications>=2023.03.6 in /usr/local/lib/python3.10/dist-packages (from jsonschema>=2.6->nbformat>=5.1->nbconvert) (2023.11.2)\n",
            "Requirement already satisfied: referencing>=0.28.4 in /usr/local/lib/python3.10/dist-packages (from jsonschema>=2.6->nbformat>=5.1->nbconvert) (0.31.1)\n",
            "Requirement already satisfied: rpds-py>=0.7.1 in /usr/local/lib/python3.10/dist-packages (from jsonschema>=2.6->nbformat>=5.1->nbconvert) (0.13.2)\n",
            "Requirement already satisfied: pyzmq>=13 in /usr/local/lib/python3.10/dist-packages (from jupyter-client>=6.1.12->nbclient>=0.5.0->nbconvert) (23.2.1)\n",
            "Requirement already satisfied: python-dateutil>=2.1 in /usr/local/lib/python3.10/dist-packages (from jupyter-client>=6.1.12->nbclient>=0.5.0->nbconvert) (2.8.2)\n",
            "Requirement already satisfied: tornado>=4.1 in /usr/local/lib/python3.10/dist-packages (from jupyter-client>=6.1.12->nbclient>=0.5.0->nbconvert) (6.3.2)\n"
          ]
        }
      ]
    },
    {
      "cell_type": "code",
      "source": [
        "!jupyter nbconvert --to html /content/deepfake_detection_model.ipynb"
      ],
      "metadata": {
        "colab": {
          "base_uri": "https://localhost:8080/"
        },
        "id": "NJlD5yQhd-O8",
        "outputId": "66f02601-0de4-4de1-bd22-ad2cb9d6c5fd"
      },
      "id": "NJlD5yQhd-O8",
      "execution_count": 3,
      "outputs": [
        {
          "output_type": "stream",
          "name": "stdout",
          "text": [
            "[NbConvertApp] Converting notebook /content/deepfake_detection_model.ipynb to html\n",
            "[NbConvertApp] Writing 894578 bytes to /content/deepfake_detection_model.html\n"
          ]
        }
      ]
    }
  ],
  "metadata": {
    "kernelspec": {
      "display_name": "Python 3",
      "language": "python",
      "name": "python3"
    },
    "language_info": {
      "codemirror_mode": {
        "name": "ipython",
        "version": 3
      },
      "file_extension": ".py",
      "mimetype": "text/x-python",
      "name": "python",
      "nbconvert_exporter": "python",
      "pygments_lexer": "ipython3",
      "version": "3.10.12"
    },
    "papermill": {
      "default_parameters": {},
      "duration": 307.218426,
      "end_time": "2023-09-16T05:39:03.235052",
      "environment_variables": {},
      "exception": null,
      "input_path": "__notebook__.ipynb",
      "output_path": "__notebook__.ipynb",
      "parameters": {},
      "start_time": "2023-09-16T05:33:56.016626",
      "version": "2.4.0"
    },
    "colab": {
      "provenance": []
    }
  },
  "nbformat": 4,
  "nbformat_minor": 5
}